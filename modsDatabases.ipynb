{
 "cells": [
  {
   "cell_type": "code",
   "execution_count": 6,
   "id": "1905e92b-8296-41c5-9c2d-7f53b8e830de",
   "metadata": {},
   "outputs": [],
   "source": [
    "#11.1 zoo.py\n",
    "def hours():\n",
    "    print(\"Open 9-5 daily\")\n",
    "\n",
    "#>>> import zoo\n",
    "#>>> zoo.hours()\n",
    "\n"
   ]
  },
  {
   "cell_type": "code",
   "execution_count": null,
   "id": "09ef0aa9-135a-41d3-bdc9-46bcfb672551",
   "metadata": {},
   "outputs": [],
   "source": [
    "#11.2 \n",
    "#>>> import zoo as menagerie\n"
   ]
  },
  {
   "cell_type": "code",
   "execution_count": null,
   "id": "097a5df4-7d7c-41e1-a792-6242cbe0b3be",
   "metadata": {},
   "outputs": [],
   "source": [
    "#16.8"
   ]
  }
 ],
 "metadata": {
  "kernelspec": {
   "display_name": "Python 3 (ipykernel)",
   "language": "python",
   "name": "python3"
  },
  "language_info": {
   "codemirror_mode": {
    "name": "ipython",
    "version": 3
   },
   "file_extension": ".py",
   "mimetype": "text/x-python",
   "name": "python",
   "nbconvert_exporter": "python",
   "pygments_lexer": "ipython3",
   "version": "3.12.7"
  }
 },
 "nbformat": 4,
 "nbformat_minor": 5
}
