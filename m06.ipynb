{
 "cells": [
  {
   "cell_type": "code",
   "execution_count": 1,
   "id": "796d9d14-fd2b-47e5-9a4b-7efcc1225da2",
   "metadata": {},
   "outputs": [
    {
     "name": "stdout",
     "output_type": "stream",
     "text": [
      "today_string: 2025-04-27\n",
      "parsed_date: 2025-04-27\n"
     ]
    }
   ],
   "source": [
    "import datetime\n",
    "\n",
    "# 13.1 Write the current date to today.txt\n",
    "today = datetime.date.today()\n",
    "with open('today.txt', 'w') as file:\n",
    "    file.write(today.isoformat())  # Writes date like '2025-04-27'\n",
    "\n",
    "# 13.2 Read today.txt into today_string\n",
    "with open('today.txt', 'r') as file:\n",
    "    today_string = file.read()\n",
    "\n",
    "print(f\"today_string: {today_string}\")\n",
    "\n",
    "# 13.3 Parse the date from today_string\n",
    "parsed_date = datetime.datetime.strptime(today_string, '%Y-%m-%d').date()\n",
    "\n",
    "print(f\"parsed_date: {parsed_date}\")\n"
   ]
  },
  {
   "cell_type": "code",
   "execution_count": 3,
   "id": "9aa3de65-6e84-41ac-9f7e-dfa8d88fd62b",
   "metadata": {},
   "outputs": [],
   "source": [
    "#15.1\n",
    "import multiprocessing\n",
    "import time\n",
    "import random\n",
    "from datetime import datetime\n",
    "\n",
    "def worker():\n",
    "    wait_time = random.uniform(0, 1)  # Random float between 0 and 1\n",
    "    time.sleep(wait_time)\n",
    "    print(f\"Process {multiprocessing.current_process().name} at {datetime.now()} after waiting {wait_time:.2f} seconds.\")\n",
    "\n",
    "if __name__ == '__main__':\n",
    "    processes = []\n",
    "    \n",
    "    for i in range(3):\n",
    "        p = multiprocessing.Process(target=worker, name=f\"Worker-{i+1}\")\n",
    "        processes.append(p)\n",
    "        p.start()\n",
    "\n",
    "    for p in processes:\n",
    "        p.join()\n"
   ]
  }
 ],
 "metadata": {
  "kernelspec": {
   "display_name": "Python 3 (ipykernel)",
   "language": "python",
   "name": "python3"
  },
  "language_info": {
   "codemirror_mode": {
    "name": "ipython",
    "version": 3
   },
   "file_extension": ".py",
   "mimetype": "text/x-python",
   "name": "python",
   "nbconvert_exporter": "python",
   "pygments_lexer": "ipython3",
   "version": "3.12.7"
  }
 },
 "nbformat": 4,
 "nbformat_minor": 5
}
